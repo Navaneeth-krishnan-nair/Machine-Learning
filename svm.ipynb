{
  "nbformat": 4,
  "nbformat_minor": 0,
  "metadata": {
    "colab": {
      "name": "svm.ipynb",
      "provenance": [],
      "authorship_tag": "ABX9TyM3PEPucbI4nPx4zpvjrMh2",
      "include_colab_link": true
    },
    "kernelspec": {
      "name": "python3",
      "display_name": "Python 3"
    },
    "language_info": {
      "name": "python"
    }
  },
  "cells": [
    {
      "cell_type": "markdown",
      "metadata": {
        "id": "view-in-github",
        "colab_type": "text"
      },
      "source": [
        "<a href=\"https://colab.research.google.com/github/Navaneeth-krishnan-nair/Machine-Learning/blob/main/svm.ipynb\" target=\"_parent\"><img src=\"https://colab.research.google.com/assets/colab-badge.svg\" alt=\"Open In Colab\"/></a>"
      ]
    },
    {
      "cell_type": "code",
      "metadata": {
        "colab": {
          "base_uri": "https://localhost:8080/"
        },
        "id": "8c5CW9Aeewr0",
        "outputId": "33b032a3-76f3-4bd0-e843-186ffa090a67"
      },
      "source": [
        "import numpy as np\n",
        "import matplotlib.pyplot as plt\n",
        "import pandas as pd\n",
        "from sklearn.svm import SVC\n",
        "\n",
        "X = [[30], [40], [50], [60], [20], [10], [70]]\n",
        "y = [0, 1, 1, 1, 0, 0, 1]\n",
        "classifier = SVC(kernel='linear', random_state=0)\n",
        "classifier.fit(X, y)\n",
        "X_marks = [[55]]\n",
        "print(classifier.predict(X_marks))"
      ],
      "execution_count": null,
      "outputs": [
        {
          "output_type": "stream",
          "text": [
            "[1]\n"
          ],
          "name": "stdout"
        }
      ]
    }
  ]
}