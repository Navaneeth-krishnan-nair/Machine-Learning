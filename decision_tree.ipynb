{
  "nbformat": 4,
  "nbformat_minor": 0,
  "metadata": {
    "colab": {
      "name": "decision tree.ipynb",
      "provenance": [],
      "authorship_tag": "ABX9TyMNnICPuVobDX7OJLgUs8+3",
      "include_colab_link": true
    },
    "kernelspec": {
      "name": "python3",
      "display_name": "Python 3"
    },
    "language_info": {
      "name": "python"
    }
  },
  "cells": [
    {
      "cell_type": "markdown",
      "metadata": {
        "id": "view-in-github",
        "colab_type": "text"
      },
      "source": [
        "<a href=\"https://colab.research.google.com/github/Navaneeth-krishnan-nair/Machine-Learning/blob/main/decision_tree.ipynb\" target=\"_parent\"><img src=\"https://colab.research.google.com/assets/colab-badge.svg\" alt=\"Open In Colab\"/></a>"
      ]
    },
    {
      "cell_type": "code",
      "metadata": {
        "colab": {
          "base_uri": "https://localhost:8080/"
        },
        "id": "ZDd0EnEnfHma",
        "outputId": "01a91161-b0f1-4c71-e601-ab44155aaf0f"
      },
      "source": [
        "import numpy as np\n",
        "import matplotlib.pyplot as plt\n",
        "import pandas as pd\n",
        "from sklearn.tree import DecisionTreeClassifier\n",
        "\n",
        "X = [[30], [40], [50], [60], [20], [10], [70]]\n",
        "y = [0, 1, 1, 1, 0, 0, 1]\n",
        "RandomForestRegModel = DecisionTreeClassifier(criterion='entropy', random_state=0)\n",
        "RandomForestRegModel.fit(X, y)\n",
        "X_marks = [[50]]\n",
        "print(RandomForestRegModel.predict(X_marks))"
      ],
      "execution_count": null,
      "outputs": [
        {
          "output_type": "stream",
          "text": [
            "[1]\n"
          ],
          "name": "stdout"
        }
      ]
    }
  ]
}